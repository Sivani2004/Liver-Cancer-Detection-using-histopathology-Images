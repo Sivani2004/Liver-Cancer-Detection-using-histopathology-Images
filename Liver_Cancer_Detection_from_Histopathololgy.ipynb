{
  "nbformat": 4,
  "nbformat_minor": 0,
  "metadata": {
    "colab": {
      "provenance": [],
      "include_colab_link": true
    },
    "kernelspec": {
      "name": "python3",
      "display_name": "Python 3"
    },
    "language_info": {
      "name": "python"
    }
  },
  "cells": [
    {
      "cell_type": "markdown",
      "metadata": {
        "id": "view-in-github",
        "colab_type": "text"
      },
      "source": [
        "<a href=\"https://colab.research.google.com/github/Sivani2004/Liver-Cancer-Detection-using-histopathology-Images/blob/main/Liver_Cancer_Detection_from_Histopathololgy.ipynb\" target=\"_parent\"><img src=\"https://colab.research.google.com/assets/colab-badge.svg\" alt=\"Open In Colab\"/></a>"
      ]
    },
    {
      "cell_type": "code",
      "source": [
        "from google.colab import drive\n",
        "drive.mount('/content/gdrive')"
      ],
      "metadata": {
        "colab": {
          "base_uri": "https://localhost:8080/"
        },
        "id": "qfIPTLJzyyXw",
        "outputId": "ef14c18b-c4f1-4be4-b400-f83c29bcaf55"
      },
      "execution_count": null,
      "outputs": [
        {
          "output_type": "stream",
          "name": "stdout",
          "text": [
            "Drive already mounted at /content/gdrive; to attempt to forcibly remount, call drive.mount(\"/content/gdrive\", force_remount=True).\n"
          ]
        }
      ]
    },
    {
      "cell_type": "code",
      "source": [
        "from sklearn.metrics import accuracy_score, roc_auc_score, f1_score, jaccard_score, classification_report, confusion_matrix\n"
      ],
      "metadata": {
        "id": "8VzBjsAWJyK0"
      },
      "execution_count": null,
      "outputs": []
    },
    {
      "cell_type": "code",
      "execution_count": null,
      "metadata": {
        "id": "tlFTJZX6ymPK"
      },
      "outputs": [],
      "source": [
        "import numpy as np\n",
        "import matplotlib.pyplot as plt\n",
        "from sklearn.metrics import accuracy_score, roc_curve, roc_auc_score, f1_score, jaccard_score, classification_report, confusion_matrix\n",
        "import tensorflow as tf\n",
        "from tensorflow.keras.models import Sequential\n",
        "from tensorflow.keras.layers import Conv2D, MaxPooling2D, Flatten, Dense, Dropout\n",
        "from tensorflow.keras.optimizers import Adam\n",
        "from tensorflow.keras.preprocessing.image import ImageDataGenerator\n"
      ]
    },
    {
      "cell_type": "code",
      "source": [
        "# Set the paths to your training, validation, and testing data\n",
        "train_data_dir = '/content/gdrive/MyDrive/Training'\n",
        "validation_data_dir = '/content/gdrive/MyDrive/Validation'\n",
        "test_data_dir = '/content/gdrive/MyDrive/Test'\n"
      ],
      "metadata": {
        "id": "nx3ZminCyplE"
      },
      "execution_count": null,
      "outputs": []
    },
    {
      "cell_type": "code",
      "source": [
        "# Set the dimensions of your input images\n",
        "img_width, img_height = 150, 150\n"
      ],
      "metadata": {
        "id": "TDe3c3h92y2h"
      },
      "execution_count": null,
      "outputs": []
    },
    {
      "cell_type": "code",
      "source": [
        "\n",
        "\n",
        "# Set the number of training and validation samples, batch size, and number of epochs\n",
        "train_samples = 1000\n",
        "validation_samples = 200\n",
        "batch_size = 20\n",
        "epochs = 10\n"
      ],
      "metadata": {
        "id": "VKNbJnrNyphp"
      },
      "execution_count": null,
      "outputs": []
    },
    {
      "cell_type": "code",
      "source": [
        "# Data augmentation for training dataset\n",
        "train_datagen = ImageDataGenerator(\n",
        "    rescale=1./255,          # Rescale pixel values to [0, 1]\n",
        "    shear_range=0.2,         # Apply shear transformation\n",
        "    zoom_range=0.2,          # Apply zoom transformation\n",
        "    horizontal_flip=True)    # Flip images horizontally\n"
      ],
      "metadata": {
        "id": "InPeUTwYypgC"
      },
      "execution_count": null,
      "outputs": []
    },
    {
      "cell_type": "code",
      "source": [
        "# Rescaling for validation and testing images\n",
        "validation_datagen = ImageDataGenerator(rescale=1. / 255)\n",
        "test_datagen = ImageDataGenerator(rescale=1. / 255)\n"
      ],
      "metadata": {
        "id": "D3xe4EB1ypdS"
      },
      "execution_count": null,
      "outputs": []
    },
    {
      "cell_type": "code",
      "source": [
        "# Generate batches of augmented training data/Loading the training data\n",
        "train_generator = train_datagen.flow_from_directory(\n",
        "                            train_data_dir, target_size=(img_width, img_height),\n",
        "                            batch_size=batch_size, class_mode='categorical')\n"
      ],
      "metadata": {
        "colab": {
          "base_uri": "https://localhost:8080/"
        },
        "id": "eB5zrM7DypbR",
        "outputId": "7c0a65d1-9719-431b-9f7d-34cf38d96886"
      },
      "execution_count": null,
      "outputs": [
        {
          "output_type": "stream",
          "name": "stdout",
          "text": [
            "Found 2549 images belonging to 4 classes.\n"
          ]
        }
      ]
    },
    {
      "cell_type": "code",
      "source": [
        "# Generate batches of validation data/Loading the validation data\n",
        "validation_generator = validation_datagen.flow_from_directory(validation_data_dir, target_size=(img_width, img_height),\n",
        "                                                              batch_size=batch_size, class_mode='categorical')\n"
      ],
      "metadata": {
        "colab": {
          "base_uri": "https://localhost:8080/"
        },
        "id": "MBXAm9lTypZo",
        "outputId": "9af836f0-9401-46df-f9eb-5af15c4788fd"
      },
      "execution_count": null,
      "outputs": [
        {
          "output_type": "stream",
          "name": "stdout",
          "text": [
            "Found 280 images belonging to 4 classes.\n"
          ]
        }
      ]
    },
    {
      "cell_type": "code",
      "source": [
        "# Generate batches of testing data/Loading the test data\n",
        "test_generator = test_datagen.flow_from_directory(test_data_dir, target_size=(img_width, img_height),\n",
        "                                                  batch_size=batch_size, class_mode='categorical', shuffle=False)\n"
      ],
      "metadata": {
        "colab": {
          "base_uri": "https://localhost:8080/"
        },
        "id": "CCsTIHXVypW4",
        "outputId": "ffb5f114-1a15-4400-83d1-063cfe0444af"
      },
      "execution_count": null,
      "outputs": [
        {
          "output_type": "stream",
          "name": "stdout",
          "text": [
            "Found 280 images belonging to 4 classes.\n"
          ]
        }
      ]
    },
    {
      "cell_type": "code",
      "source": [
        "# create the CNN model architecture\n",
        "model = Sequential()\n",
        "model.add(Conv2D(32, (3, 3), activation='relu', input_shape=(img_width, img_height, 3)))\n",
        "model.add(MaxPooling2D((2, 2)))\n",
        "model.add(Conv2D(64, (3, 3), activation='relu'))\n",
        "model.add(MaxPooling2D((2, 2)))\n",
        "model.add(Conv2D(128, (3, 3), activation='relu'))\n",
        "model.add(MaxPooling2D((2, 2)))\n",
        "model.add(Flatten())\n",
        "model.add(Dense(128, activation='relu'))\n",
        "model.add(Dense(4, activation='softmax'))"
      ],
      "metadata": {
        "id": "I5hejjppypUx"
      },
      "execution_count": null,
      "outputs": []
    },
    {
      "cell_type": "code",
      "source": [
        "# Compile the model\n",
        "model.compile(loss='categorical_crossentropy', optimizer=Adam(lr=0.001), metrics=['accuracy'])\n"
      ],
      "metadata": {
        "colab": {
          "base_uri": "https://localhost:8080/"
        },
        "id": "ZFcU4lqm3keo",
        "outputId": "299110b4-fb10-437f-927f-2acc7c068809"
      },
      "execution_count": null,
      "outputs": [
        {
          "output_type": "stream",
          "name": "stderr",
          "text": [
            "WARNING:absl:`lr` is deprecated in Keras optimizer, please use `learning_rate` or use the legacy optimizer, e.g.,tf.keras.optimizers.legacy.Adam.\n"
          ]
        }
      ]
    },
    {
      "cell_type": "code",
      "source": [
        "# Calculate the number of steps per epoch and validation steps\n",
        "steps_per_epoch = train_generator.samples // batch_size\n",
        "validation_steps = validation_generator.samples // batch_size\n",
        "\n",
        "# Train the model\n",
        "history = model.fit(train_generator, steps_per_epoch=steps_per_epoch, epochs=epochs,\n",
        "                    validation_data=validation_generator, validation_steps=validation_steps,\n",
        "                    verbose=1)\n"
      ],
      "metadata": {
        "colab": {
          "base_uri": "https://localhost:8080/"
        },
        "id": "DjuFcI8h3lRc",
        "outputId": "2fd0306b-d836-403e-8faf-f0fe6aef0562"
      },
      "execution_count": null,
      "outputs": [
        {
          "output_type": "stream",
          "name": "stdout",
          "text": [
            "Epoch 1/10\n",
            "127/127 [==============================] - 388s 3s/step - loss: 1.2195 - accuracy: 0.4211 - val_loss: 0.9990 - val_accuracy: 0.5750\n",
            "Epoch 2/10\n",
            "127/127 [==============================] - 111s 873ms/step - loss: 0.8045 - accuracy: 0.6129 - val_loss: 0.8222 - val_accuracy: 0.6000\n",
            "Epoch 3/10\n",
            "127/127 [==============================] - 100s 784ms/step - loss: 0.5877 - accuracy: 0.7189 - val_loss: 0.7136 - val_accuracy: 0.6393\n",
            "Epoch 4/10\n",
            "127/127 [==============================] - 100s 784ms/step - loss: 0.5044 - accuracy: 0.7635 - val_loss: 0.5686 - val_accuracy: 0.7750\n",
            "Epoch 5/10\n",
            "127/127 [==============================] - 97s 763ms/step - loss: 0.4363 - accuracy: 0.8086 - val_loss: 0.6048 - val_accuracy: 0.7393\n",
            "Epoch 6/10\n",
            "127/127 [==============================] - 96s 756ms/step - loss: 0.4666 - accuracy: 0.8047 - val_loss: 0.6862 - val_accuracy: 0.7571\n",
            "Epoch 7/10\n",
            "127/127 [==============================] - 98s 775ms/step - loss: 0.3823 - accuracy: 0.8221 - val_loss: 0.6433 - val_accuracy: 0.7286\n",
            "Epoch 8/10\n",
            "127/127 [==============================] - 98s 773ms/step - loss: 0.3604 - accuracy: 0.8426 - val_loss: 0.6424 - val_accuracy: 0.7429\n",
            "Epoch 9/10\n",
            "127/127 [==============================] - 98s 768ms/step - loss: 0.3701 - accuracy: 0.8410 - val_loss: 0.6203 - val_accuracy: 0.7429\n",
            "Epoch 10/10\n",
            "127/127 [==============================] - 97s 762ms/step - loss: 0.3068 - accuracy: 0.8596 - val_loss: 0.7329 - val_accuracy: 0.7214\n"
          ]
        }
      ]
    },
    {
      "cell_type": "code",
      "source": [
        "# Plot the training and validation loss\n",
        "plt.plot(history.history['loss'], label='Training Loss')\n",
        "plt.plot(history.history['val_loss'], label='Validation Loss')\n",
        "plt.xlabel('Epochs')\n",
        "plt.ylabel('Loss')\n",
        "plt.legend()\n",
        "plt.show()"
      ],
      "metadata": {
        "colab": {
          "base_uri": "https://localhost:8080/",
          "height": 449
        },
        "id": "fUyWqsFf3lhS",
        "outputId": "2a50c45e-9c21-48c5-f0dc-46f5494a6126"
      },
      "execution_count": null,
      "outputs": [
        {
          "output_type": "display_data",
          "data": {
            "text/plain": [
              "<Figure size 640x480 with 1 Axes>"
            ],
            "image/png": "[encoded data removed]"
          },
          "metadata": {}
        }
      ]
    },
    {
      "cell_type": "code",
      "source": [
        "# Plot the training and validation accuracy\n",
        "plt.plot(history.history['accuracy'], label='Training Accuracy')\n",
        "plt.plot(history.history['val_accuracy'], label='Validation Accuracy')\n",
        "plt.xlabel('Epochs')\n",
        "plt.ylabel('Accuracy')\n",
        "plt.legend()\n",
        "plt.show()\n"
      ],
      "metadata": {
        "colab": {
          "base_uri": "https://localhost:8080/",
          "height": 449
        },
        "id": "V7omdb9h3lx1",
        "outputId": "bb7c75fe-f4ef-4077-e09c-6bf8842c6639"
      },
      "execution_count": null,
      "outputs": [
        {
          "output_type": "display_data",
          "data": {
            "text/plain": [
              "<Figure size 640x480 with 1 Axes>"
            ],
            "image/png": "[encoded data removed]"
          },
          "metadata": {}
        }
      ]
    },
    {
      "cell_type": "code",
      "source": [
        "# Evaluate the model\n",
        "y_true = test_generator.classes\n",
        "y_pred_probabilities = model.predict(test_generator)\n",
        "y_pred = np.argmax(y_pred_probabilities, axis=1)\n"
      ],
      "metadata": {
        "colab": {
          "base_uri": "https://localhost:8080/"
        },
        "id": "Y2Jdybtj3l6O",
        "outputId": "bcad2f46-4dfc-44e3-f04e-8f9bcdd78b0f"
      },
      "execution_count": null,
      "outputs": [
        {
          "output_type": "stream",
          "name": "stdout",
          "text": [
            "14/14 [==============================] - 3s 212ms/step\n"
          ]
        }
      ]
    },
    {
      "cell_type": "code",
      "source": [
        "\n",
        "# Evaluate the model\n",
        "y_true = test_generator.classes\n",
        "y_pred_probabilities = model.predict(test_generator)\n",
        "y_pred = np.argmax(y_pred_probabilities, axis=1)\n",
        "\n",
        "# Compute class-wise accuracy\n",
        "class_accuracy = accuracy_score(y_true, y_pred)\n",
        "class_wise_accuracy = accuracy_score(y_true, y_pred, normalize=False)\n",
        "\n",
        "# Compute F1 score, Jaccard score, and classification report\n",
        "f1 = f1_score(y_true, y_pred, average='weighted')\n",
        "jaccard = jaccard_score(y_true, y_pred, average='weighted')\n",
        "classification = classification_report(y_true, y_pred)\n",
        "\n",
        "# Compute confusion matrix\n",
        "confusion = confusion_matrix(y_true, y_pred)\n",
        "\n",
        "# Print the computed metrics\n",
        "print(\"Class-wise Accuracy:\", class_wise_accuracy)\n",
        "print(\"F1 Score:\", f1)\n",
        "print(\"Jaccard Score:\", jaccard)\n",
        "print(\"Classification Report:\\n\", classification)\n",
        "print(\"Confusion Matrix:\\n\", confusion)"
      ],
      "metadata": {
        "colab": {
          "base_uri": "https://localhost:8080/"
        },
        "id": "Zuer6kyQ4DFb",
        "outputId": "d28b1cf0-8a2d-4be0-845a-1e943ea95438"
      },
      "execution_count": null,
      "outputs": [
        {
          "output_type": "stream",
          "name": "stdout",
          "text": [
            "14/14 [==============================] - 3s 216ms/step\n",
            "Class-wise Accuracy: 208\n",
            "F1 Score: 0.7471567551751884\n",
            "Jaccard Score: 0.6084815608120693\n",
            "Classification Report:\n",
            "               precision    recall  f1-score   support\n",
            "\n",
            "           0       0.86      0.86      0.86        70\n",
            "           1       0.60      0.71      0.65        80\n",
            "           2       0.68      0.64      0.66        80\n",
            "           3       1.00      0.80      0.89        50\n",
            "\n",
            "    accuracy                           0.74       280\n",
            "   macro avg       0.78      0.75      0.76       280\n",
            "weighted avg       0.76      0.74      0.75       280\n",
            "\n",
            "Confusion Matrix:\n",
            " [[60  0 10  0]\n",
            " [10 57 13  0]\n",
            " [ 0 29 51  0]\n",
            " [ 0  9  1 40]]\n"
          ]
        }
      ]
    },
    {
      "cell_type": "code",
      "source": [
        "# Compute evaluation metrics\n",
        "accuracy = accuracy_score(y_true, y_pred)\n",
        "precision = precision_score(y_true, y_pred, average='weighted')\n",
        "confusion = confusion_matrix(y_true, y_pred)\n",
        "classification = classification_report(y_true, y_pred)\n",
        "jaccard = jaccard_score(y_true, y_pred, average='weighted')\n",
        "\n",
        "# Print the evaluation metrics\n",
        "print(\"Accuracy:\", accuracy)\n",
        "print(\"Precision:\", precision)\n",
        "print(\"Confusion Matrix:\\n\", confusion)\n",
        "print(\"Classification Report:\\n\", classification)\n",
        "print(\"Jaccard Score:\", jaccard)"
      ],
      "metadata": {
        "colab": {
          "base_uri": "https://localhost:8080/"
        },
        "id": "U3Mo5J6y4C7C",
        "outputId": "8c955f96-381b-49b4-d084-ec2f6868df9b"
      },
      "execution_count": null,
      "outputs": [
        {
          "output_type": "stream",
          "name": "stdout",
          "text": [
            "Accuracy: 0.7428571428571429\n",
            "Precision: 0.7585714285714286\n",
            "Confusion Matrix:\n",
            " [[60  0 10  0]\n",
            " [10 57 13  0]\n",
            " [ 0 29 51  0]\n",
            " [ 0  9  1 40]]\n",
            "Classification Report:\n",
            "               precision    recall  f1-score   support\n",
            "\n",
            "           0       0.86      0.86      0.86        70\n",
            "           1       0.60      0.71      0.65        80\n",
            "           2       0.68      0.64      0.66        80\n",
            "           3       1.00      0.80      0.89        50\n",
            "\n",
            "    accuracy                           0.74       280\n",
            "   macro avg       0.78      0.75      0.76       280\n",
            "weighted avg       0.76      0.74      0.75       280\n",
            "\n",
            "Jaccard Score: 0.6084815608120693\n"
          ]
        }
      ]
    },
    {
      "cell_type": "code",
      "source": [
        "!jupyter nbconvert --to html /content/Liver_Cancer_Detection_from_Histopathololgy.ipynb"
      ],
      "metadata": {
        "colab": {
          "base_uri": "https://localhost:8080/"
        },
        "id": "K5YLcnWQM-08",
        "outputId": "7523e240-2853-4c9b-a184-2f2f70e0a0a7"
      },
      "execution_count": null,
      "outputs": [
        {
          "output_type": "stream",
          "name": "stdout",
          "text": [
            "[NbConvertApp] Converting notebook /content/Liver_Cancer_Detection_from_Histopathololgy.ipynb to html\n",
            "[NbConvertApp] Writing 683707 bytes to /content/Liver_Cancer_Detection_from_Histopathololgy.html\n"
          ]
        }
      ]
    }
  ]
}